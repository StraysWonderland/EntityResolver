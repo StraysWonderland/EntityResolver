{
 "cells": [
  {
   "cell_type": "code",
   "execution_count": 1,
   "metadata": {},
   "outputs": [],
   "source": [
    "import xml.etree.ElementTree as ET\n",
    "import time\n",
    "import numpy as np"
   ]
  },
  {
   "cell_type": "code",
   "execution_count": 2,
   "metadata": {},
   "outputs": [],
   "source": [
    "# timestamp with start time\n",
    "timestamp_start = time.time()"
   ]
  },
  {
   "cell_type": "code",
   "execution_count": 3,
   "metadata": {},
   "outputs": [],
   "source": [
    "# parse xml into python element\n",
    "tree = ET.parse('cora-all-id.xml')\n",
    "root = tree.getroot()\n",
    "\n",
    "# threshold for similarity calculation\n",
    "threshold = 0.35"
   ]
  },
  {
   "cell_type": "code",
   "execution_count": 4,
   "metadata": {},
   "outputs": [],
   "source": [
    "def getDiff(attributes_1, attributes_2):\n",
    "    sim = 0\n",
    "    for att_1 in attributes_1:\n",
    "        for att_2 in attributes_2:\n",
    "            if(att_1==att_2):\n",
    "                sim += 1\n",
    "    delta = len(attributes_1) - sim \n",
    "    return delta"
   ]
  },
  {
   "cell_type": "code",
   "execution_count": 5,
   "metadata": {},
   "outputs": [],
   "source": [
    "# modified version of hamming distance\n",
    "def calculateSimilarity(pub_comp, pub):\n",
    "    diff = 0\n",
    "    l_pub = len(pub)\n",
    "    l_pub_comp = len(pub_comp)\n",
    "    if(l_pub_comp < l_pub):\n",
    "        diff = getDiff(pub, pub_comp)\n",
    "    elif(l_pub_comp > l_pub):\n",
    "        diff = getDiff(pub_comp, pub)\n",
    "    elif(l_pub_comp == l_pub):\n",
    "        diff = getDiff(pub_comp, pub)\n",
    "    return diff"
   ]
  },
  {
   "cell_type": "code",
   "execution_count": 6,
   "metadata": {},
   "outputs": [],
   "source": [
    "publications = []   # list with the author ids for each publication\n",
    "list_ids = []       # list with the ids of the publications\n",
    "\n",
    "# first loop to store the relevant data into lists\n",
    "for child in root:\n",
    "    list_local_authors = []\n",
    "    title = []\n",
    "    for element in child:\n",
    "        if(element.tag == 'author'): # store the author ids into the list\n",
    "            list_local_authors.append(element.attrib['id']) # collect all authors in a local list first \n",
    "        elif(element.tag == 'venue'):\n",
    "            for ven in element:\n",
    "                for item in ven:\n",
    "                    list_local_authors.append(item.text)\n",
    "        elif(element.tag == 'title'):\n",
    "            title.append(element.text)\n",
    "    if(title != \"\"):\n",
    "        full_title = ''.join(title)\n",
    "        list_local_authors.append(full_title)\n",
    "    list_ids.append(child.attrib['id']) # store the id of the current publication in a list\n",
    "    publications.append(list_local_authors) # append the list with the collected authors to the publications"
   ]
  },
  {
   "cell_type": "code",
   "execution_count": 7,
   "metadata": {},
   "outputs": [],
   "source": [
    "# GOLD STANDART\n",
    "#--------------\n",
    "golden_duplicates = []\n",
    "# first loop to store the relevant data into lists\n",
    "pos_comp = 0\n",
    "for child in root:\n",
    "    pos = 0\n",
    "    for child_comp in root:\n",
    "        if(child_comp.attrib['id'] == child.attrib['id'] and pos != pos_comp):\n",
    "            golden_duplicates.append((pos_comp,pos))\n",
    "        pos += 1\n",
    "    pos_comp += 1"
   ]
  },
  {
   "cell_type": "code",
   "execution_count": 8,
   "metadata": {},
   "outputs": [],
   "source": [
    "#FIND DUPLICATES\n",
    "#---------------\n",
    "duplicates = [] # list with the publication ids of the duplicates\n",
    "\n",
    "for j in range(0, len(publications)):\n",
    "    list_buffer = [] # collect all duplicates in the local list first\n",
    "    for i in range(0, len(publications)):\n",
    "        diff = calculateSimilarity(publications[j], publications[i])\n",
    "        if( diff < ( threshold* len(publications[j])) and i != j ):\n",
    "            duplicates.append((j, i)) # add tuple of pair to evaluation list"
   ]
  },
  {
   "cell_type": "code",
   "execution_count": 9,
   "metadata": {},
   "outputs": [
    {
     "name": "stdout",
     "output_type": "stream",
     "text": [
      "hat gedauert: 1528799.948895261\n"
     ]
    }
   ],
   "source": [
    "true_positive = 0\n",
    "false_positive = 0\n",
    "false_negative = 0\n",
    "tp = False\n",
    "timestamp2 = time.time() - timestamp_start\n",
    "for dup in duplicates:\n",
    "    for i in range(len(golden_duplicates)):\n",
    "        gold = golden_duplicates[i]\n",
    "        if gold == dup:\n",
    "            true_positive += 1\n",
    "            del golden_duplicates[i]\n",
    "            tp = True\n",
    "            break\n",
    "    if(not tp):\n",
    "        false_positive += 1\n",
    "for gold in golden_duplicates:\n",
    "    if gold not in duplicates:\n",
    "        false_negative += 1\n",
    "timestamp2_end = (time.time() - timestamp2) / 1000\n",
    "print(\"hat gedauert: \" + str(timestamp2_end))"
   ]
  },
  {
   "cell_type": "code",
   "execution_count": 10,
   "metadata": {},
   "outputs": [
    {
     "name": "stdout",
     "output_type": "stream",
     "text": [
      "true pos: 56904\n",
      "false pos: 0\n",
      "Evaluation\n",
      "Precision: 1.0\n",
      "Recall: 0.3944818024263432\n",
      "F1 Score: 0.5657754755063285\n",
      "#### gold-standart duplicates ###\n",
      "(11, 12)\n",
      "(11, 13)\n",
      "(12, 11)\n",
      "(13, 11)\n",
      "(15, 17)\n",
      "(16, 17)\n",
      "(17, 15)\n",
      "(17, 16)\n",
      "(18, 19)\n",
      "(18, 20)\n",
      "(18, 21)\n",
      "(19, 18)\n",
      "(19, 22)\n",
      "(20, 18)\n",
      "(20, 22)\n",
      "(21, 18)\n",
      "(21, 22)\n",
      "#### retrieved duplicates ###\n",
      "(0, 1)\n",
      "(0, 2)\n",
      "(0, 3)\n",
      "(0, 4)\n",
      "(0, 5)\n",
      "(0, 6)\n",
      "(0, 7)\n",
      "(1, 0)\n",
      "(1, 2)\n",
      "(1, 3)\n",
      "(1, 4)\n",
      "(1, 5)\n",
      "(1, 6)\n",
      "(1, 7)\n",
      "(2, 0)\n",
      "(2, 1)\n",
      "(2, 3)\n",
      "#######################################\n",
      "87346 #duplicates in gold-standart\n",
      "91012 #retrieved duplicates \n",
      "#######################################\n",
      "Calculation Finished\n",
      "Time passed: 1563.265881061554\n",
      "#######################################\n"
     ]
    }
   ],
   "source": [
    "print(\"true pos: \" + str(true_positive))\n",
    "print(\"false pos: \" + str(false_positive))\n",
    "precision = true_positive / (true_positive + false_positive)\n",
    "recall = true_positive / (true_positive + false_negative)\n",
    "f1_score = 2*true_positive / (2*true_positive + false_positive + false_negative)\n",
    "\n",
    "print(\"Evaluation\")\n",
    "print(\"Precision: \" + str(precision))\n",
    "print(\"Recall: \" + str(recall))\n",
    "print(\"F1 Score: \" + str(f1_score))\n",
    "\n",
    "########################################\n",
    "# PRINTING\n",
    "print(\"#### gold-standart duplicates ###\")\n",
    "for i in range(17):    \n",
    "    print(golden_duplicates[i])\n",
    "\n",
    "print(\"#### retrieved duplicates ###\")\n",
    "for i in range(17):\n",
    "    print(duplicates[i])\n",
    "\n",
    "print(\"#######################################\")\n",
    "print(str(len(golden_duplicates)) + \" #duplicates in gold-standart\"  )\n",
    "print(str(len(duplicates)) + \" #retrieved duplicates \" )\n",
    "print(\"#######################################\")\n",
    "\n",
    "# timestamp for termination time\n",
    "timestamp_end = time.time() - timestamp_start\n",
    "print(\"Calculation Finished\")\n",
    "print('Time passed: ' + str(timestamp_end))\n",
    "print(\"#######################################\")"
   ]
  }
 ],
 "metadata": {
  "kernelspec": {
   "display_name": "Python 3",
   "language": "python",
   "name": "python3"
  },
  "language_info": {
   "codemirror_mode": {
    "name": "ipython",
    "version": 3
   },
   "file_extension": ".py",
   "mimetype": "text/x-python",
   "name": "python",
   "nbconvert_exporter": "python",
   "pygments_lexer": "ipython3",
   "version": "3.5.2"
  }
 },
 "nbformat": 4,
 "nbformat_minor": 2
}
